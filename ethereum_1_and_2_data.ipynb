{
 "cells": [
  {
   "cell_type": "code",
   "execution_count": 28,
   "metadata": {},
   "outputs": [],
   "source": [
    "from web3.beacon import Beacon\n",
    "from web3 import Web3\n",
    "from pprint import pprint\n",
    "import pandas as pd\n",
    "import hexbytes as hb"
   ]
  },
  {
   "cell_type": "code",
   "execution_count": 2,
   "metadata": {},
   "outputs": [],
   "source": [
    "beacon = Beacon(\"https://ultra-chaotic-silence.discover.quiknode.pro/3a20380951ff287a674246a038a9563feea0e27f/\")"
   ]
  },
  {
   "cell_type": "code",
   "execution_count": 3,
   "metadata": {},
   "outputs": [],
   "source": [
    "w3 = Web3(Web3.HTTPProvider(\"https://ultra-chaotic-silence.discover.quiknode.pro/3a20380951ff287a674246a038a9563feea0e27f/\"))"
   ]
  },
  {
   "cell_type": "code",
   "execution_count": 4,
   "metadata": {},
   "outputs": [
    {
     "data": {
      "text/plain": [
       "{'execution_optimistic': False,\n",
       " 'data': {'root': '0x656251e2e1352870abda9d3f01f92535b1f9f9bb6ce77c2d6c11cfec13302172',\n",
       "  'canonical': True,\n",
       "  'header': {'message': {'slot': '10000',\n",
       "    'proposer_index': '6084',\n",
       "    'parent_root': '0x2e3bb890891371d007ee942096d073df638c86824f6fd8344a36b52788f2b6a7',\n",
       "    'state_root': '0xfd070c394af1ba19db2e6901a8d3fd5850d7fe16cdff8bdffb871896a767e87e',\n",
       "    'body_root': '0x52ecfad27f5460a0e7898216182c01fa2a9f660087c2f67bf4ea24bcb8f63189'},\n",
       "   'signature': '0x8fcbdb1e0a41b8d8c16853702ea1cbf43cacf560e692e2e3b172a1d100fb38de78ef39a6cedb970e6aa246c52092d9cc0093267c75e7bdcc11bcfc36344761e1c49941dbc384badb1f3d3c99bfd0bc4a692ed5bea4d80154ebc368b9b1fe3dd5'}}}"
      ]
     },
     "execution_count": 4,
     "metadata": {},
     "output_type": "execute_result"
    }
   ],
   "source": [
    "beacon.get_block_header(10000)"
   ]
  },
  {
   "cell_type": "code",
   "execution_count": 5,
   "metadata": {},
   "outputs": [
    {
     "data": {
      "text/plain": [
       "{'version': 'phase0',\n",
       " 'execution_optimistic': False,\n",
       " 'data': {'message': {'slot': '10000',\n",
       "   'proposer_index': '6084',\n",
       "   'parent_root': '0x2e3bb890891371d007ee942096d073df638c86824f6fd8344a36b52788f2b6a7',\n",
       "   'state_root': '0xfd070c394af1ba19db2e6901a8d3fd5850d7fe16cdff8bdffb871896a767e87e',\n",
       "   'body': {'randao_reveal': '0x81e74ec993211d6575e00380c98d87dfcf13afba6fdf39cc60e74c8543ae2ec7a06b035adc45dba990d92206f638f50816fc43fd13e5b36f69a32ebddfa453fcc883138bd345d12e0964bc42f22f1b98365e8dc57e3313b9acdb376813867ed4',\n",
       "    'eth1_data': {'deposit_root': '0x3feeb8ad80661fba95507e3474e003e4fa62ec8a65e4c6375f0d1705a1756205',\n",
       "     'deposit_count': '29168',\n",
       "     'block_hash': '0x4f89f5818dd504c7eb6f4480ab8ce01e2b1c2c71bf02387747f8ef88f2625dd0'},\n",
       "    'graffiti': '0x0000000000000000000000000000000000000000000000000000000000000000',\n",
       "    'proposer_slashings': [],\n",
       "    'attester_slashings': [],\n",
       "    'attestations': [{'aggregation_bits': '0xffffffffffffffefffbfffdfdf7fefffff0f',\n",
       "      'data': {'slot': '9999',\n",
       "       'index': '2',\n",
       "       'beacon_block_root': '0x2e3bb890891371d007ee942096d073df638c86824f6fd8344a36b52788f2b6a7',\n",
       "       'source': {'epoch': '311',\n",
       "        'root': '0x746961ceb2dc9417ebbca3e27e1e12d38fc54de7dcbcd8b24bf0bc27389c4db3'},\n",
       "       'target': {'epoch': '312',\n",
       "        'root': '0xb6f1222ab9db1e2f3b5e93d2264a96b9b246dc863c5a96bc81098b4a2b6ff5b4'}},\n",
       "      'signature': '0xb630517f9510883f7fdf7a0b1bd8c43c68b0b88ff19552e3952a0c07c6f7f42d33a45ac41424479e7835d4e604cf33ad01d1e7139c61b6647f0f1a5be2fa01bf9fa8ccb015e0d9f6d8c48e1cf1b5c4ae4bcb8edf73025ec8c8078ba82d609f0c'},\n",
       "     {'aggregation_bits': '0xffffffb77fffffdf7ffffffffffbffffff07',\n",
       "      'data': {'slot': '9999',\n",
       "       'index': '1',\n",
       "       'beacon_block_root': '0x2e3bb890891371d007ee942096d073df638c86824f6fd8344a36b52788f2b6a7',\n",
       "       'source': {'epoch': '311',\n",
       "        'root': '0x746961ceb2dc9417ebbca3e27e1e12d38fc54de7dcbcd8b24bf0bc27389c4db3'},\n",
       "       'target': {'epoch': '312',\n",
       "        'root': '0xb6f1222ab9db1e2f3b5e93d2264a96b9b246dc863c5a96bc81098b4a2b6ff5b4'}},\n",
       "      'signature': '0x86ba7f5625da35f5d4478c2cbeca841018f022bc83335bdf362699b5b6d4325df55b38e3d126d1d82b6a1a6ae5718e220a109c51a783060e1b171880410fb060e236c45b72bc62bbb8e656bae294b930fdac142362757cc053b2aa37356cc3c0'},\n",
       "     {'aggregation_bits': '0xff7ef7fdffffffffffffdffffffff7ffbf07',\n",
       "      'data': {'slot': '9999',\n",
       "       'index': '3',\n",
       "       'beacon_block_root': '0x2e3bb890891371d007ee942096d073df638c86824f6fd8344a36b52788f2b6a7',\n",
       "       'source': {'epoch': '311',\n",
       "        'root': '0x746961ceb2dc9417ebbca3e27e1e12d38fc54de7dcbcd8b24bf0bc27389c4db3'},\n",
       "       'target': {'epoch': '312',\n",
       "        'root': '0xb6f1222ab9db1e2f3b5e93d2264a96b9b246dc863c5a96bc81098b4a2b6ff5b4'}},\n",
       "      'signature': '0xa3614e6d42c993966981febdbb07a18471c16636446848529f156f7ef5374e382185c616cad954c7ad0a4c005210fbac07a9857bd1932c1fd01a45f5bf331d2f9237e184cf85dac46f8b3f0a52fdb5ee1f96522128634eb4efc786ff59e1fd43'},\n",
       "     {'aggregation_bits': '0x7fffdfffffffeffffff3cffffffffdfffb0e',\n",
       "      'data': {'slot': '9999',\n",
       "       'index': '4',\n",
       "       'beacon_block_root': '0x2e3bb890891371d007ee942096d073df638c86824f6fd8344a36b52788f2b6a7',\n",
       "       'source': {'epoch': '311',\n",
       "        'root': '0x746961ceb2dc9417ebbca3e27e1e12d38fc54de7dcbcd8b24bf0bc27389c4db3'},\n",
       "       'target': {'epoch': '312',\n",
       "        'root': '0xb6f1222ab9db1e2f3b5e93d2264a96b9b246dc863c5a96bc81098b4a2b6ff5b4'}},\n",
       "      'signature': '0xb09a47c364f0dde26939b4b783b65dc8ce0b058fb50076e49a68013eb02e3ef83b49457d725d2d4eb7e1dee90331bdda099f0163bfde29281ad3d921af38e86fbc95171383947998173d8c01f27e2475d6332193161ee70a9b4ff2f793c4294a'},\n",
       "     {'aggregation_bits': '0x000408000000000000000000000200000008',\n",
       "      'data': {'slot': '9995',\n",
       "       'index': '4',\n",
       "       'beacon_block_root': '0xb837c2b47e992e5646f2a965b1c3fdb2d31171f6766e71e622102191dc11277c',\n",
       "       'source': {'epoch': '311',\n",
       "        'root': '0x746961ceb2dc9417ebbca3e27e1e12d38fc54de7dcbcd8b24bf0bc27389c4db3'},\n",
       "       'target': {'epoch': '312',\n",
       "        'root': '0xb6f1222ab9db1e2f3b5e93d2264a96b9b246dc863c5a96bc81098b4a2b6ff5b4'}},\n",
       "      'signature': '0xaaae2334fc516801c5dde3284f7a5260083338187e43210fd9e06eb224d95096ef494e44d93be835c23e77306d881985190324b1f2dd1892002980195b925246fcc11f554492ca55d00c626667c72cf10c692ac833adf0bc5a28f44e7d666b86'}],\n",
       "    'deposits': [],\n",
       "    'voluntary_exits': []}},\n",
       "  'signature': '0x8fcbdb1e0a41b8d8c16853702ea1cbf43cacf560e692e2e3b172a1d100fb38de78ef39a6cedb970e6aa246c52092d9cc0093267c75e7bdcc11bcfc36344761e1c49941dbc384badb1f3d3c99bfd0bc4a692ed5bea4d80154ebc368b9b1fe3dd5'}}"
      ]
     },
     "execution_count": 5,
     "metadata": {},
     "output_type": "execute_result"
    }
   ],
   "source": [
    "beacon.get_block(10000)"
   ]
  },
  {
   "cell_type": "code",
   "execution_count": 13,
   "metadata": {},
   "outputs": [
    {
     "data": {
      "text/plain": [
       "{'version': 'phase0',\n",
       " 'execution_optimistic': False,\n",
       " 'data': {'message': {'slot': '1',\n",
       "   'proposer_index': '19026',\n",
       "   'parent_root': '0x4d611d5b93fdab69013a7f0a2f961caca0c853f87cfe9595fe50038163079360',\n",
       "   'state_root': '0x71ddf39322af21eeabda04f605992ab5027533eb8e9ab915075d432a886c6e51',\n",
       "   'body': {'randao_reveal': '0xb741ebc01d9fe20dace1e59d5f23907d8099e7584dee8929a08d0d058cc232a645427c61ebad281f589bc8a17aed7bfc08040a0cf5d20f5f679643ffddd010edf30f4a042bbae85b02599aa7b7f043582386f891d991a006f481783ea6102b07',\n",
       "    'eth1_data': {'deposit_root': '0xcf4ace744728226f928b4e20d578ca07d873d7e6b49b2874cf909c879fa8ded3',\n",
       "     'deposit_count': '27252',\n",
       "     'block_hash': '0x8d3f027beef5cbd4f8b29fc831aba67a5d74768edca529f5596f07fd207865e1'},\n",
       "    'graffiti': '0x4d72204620776173206865726500000000000000000000000000000000000000',\n",
       "    'proposer_slashings': [],\n",
       "    'attester_slashings': [],\n",
       "    'attestations': [],\n",
       "    'deposits': [],\n",
       "    'voluntary_exits': []}},\n",
       "  'signature': '0xb591bd4ca7d745b6e027879645d7c014fecb8c58631af070f7607acc0c1c948a5102a33267f0e4ba41a85b254b07df91185274375b2e6436e37e81d2fd46cb3751f5a6c86efb7499c1796c0c17e122a54ac067bb0f5ff41f3241659cceb0c21c'}}"
      ]
     },
     "execution_count": 13,
     "metadata": {},
     "output_type": "execute_result"
    }
   ],
   "source": [
    "beacon.get_block(1)"
   ]
  },
  {
   "cell_type": "code",
   "execution_count": 41,
   "metadata": {},
   "outputs": [],
   "source": [
    "res = beacon.get_block(100000)"
   ]
  },
  {
   "cell_type": "code",
   "execution_count": 48,
   "metadata": {},
   "outputs": [],
   "source": [
    "res = dict(w3.eth.get_block(15537394))"
   ]
  },
  {
   "cell_type": "code",
   "execution_count": 51,
   "metadata": {},
   "outputs": [],
   "source": [
    "for item, value in res.items():\n",
    "    if isinstance(value, hb.HexBytes):\n",
    "        res[item] = value.hex()\n",
    "    if isinstance(value, list):\n",
    "        for i, v in enumerate(value):\n",
    "            if isinstance(v, hb.HexBytes):\n",
    "                value[i] = v.hex()"
   ]
  },
  {
   "cell_type": "code",
   "execution_count": 52,
   "metadata": {},
   "outputs": [
    {
     "data": {
      "text/plain": [
       "{'baseFeePerGas': 48811794595,\n",
       " 'difficulty': 0,\n",
       " 'extraData': '0x',\n",
       " 'gasLimit': 30000000,\n",
       " 'gasUsed': 29983006,\n",
       " 'hash': '0x56a9bb0302da44b8c0b3df540781424684c3af04d0b7a38d72842b762076a664',\n",
       " 'logsBloom': '0xffffffffffffffffffffffffffffffffffffffffffffffffffffffffffffffffffffffffffffffffffffffffffffffffffffffffffffffffffffffffffffffffffffffffffffffffffffffffffffffffffffffffffffffffffffffffffffffffffffffffffffffffffffffffffffffffffffffffffffffffffffffffffffffffffffffffffffffffffffffffffffffffffffffffffffffffffffffffffffffffffffffffffffffffffffffffffffffffffffffffffffffffffffffffffffffffffffffffffffffffffffffffffffffffffffffffffffffffffffffffffffffffffffffffffffffffffffffffffffffffffffffffffffffffffffffffffffffff',\n",
       " 'miner': '0xeEE27662c2B8EBa3CD936A23F039F3189633e4C8',\n",
       " 'mixHash': '0xa86c2e601b6c44eb4848f7d23d9df3113fbcac42041c49cbed5000cb4f118777',\n",
       " 'nonce': '0x0000000000000000',\n",
       " 'number': 15537394,\n",
       " 'parentHash': '0x55b11b918355b1ef9c5db810302ebad0bf2544255b530cdce90674d5887bb286',\n",
       " 'receiptsRoot': '0x928073fb98ce316265ea35d95ab7e2e1206cecd85242eb841dbbcc4f568fca4b',\n",
       " 'sha3Uncles': '0x1dcc4de8dec75d7aab85b567b6ccd41ad312451b948a7413f0a142fd40d49347',\n",
       " 'size': 18559,\n",
       " 'stateRoot': '0x40c07091e16263270f3579385090fea02dd5f061ba6750228fcc082ff762fda7',\n",
       " 'timestamp': 1663224179,\n",
       " 'totalDifficulty': 58750003716598352816469,\n",
       " 'transactions': ['0x5ad934ee3bf2f8938d8518a3b978e81f178eaa21824ee52fef83338f786e7b59',\n",
       "  '0xcf92f67b37495b4149a522da5dce665cddd1c183c79ba1e870564f77ffaabbca',\n",
       "  '0x714b934c3dad0f28fbc9d0438312a3801ab863480b98be4548f36a436cf270b5',\n",
       "  '0x1b86278143e06a8dcd0944d336100c8187ff1e4277ef5fd39360dd7bfcdc355b',\n",
       "  '0xee199f9280622e1990c649c23907d819ab6d5a27a41dc50b625812d02af8ff0f',\n",
       "  '0x810681d62880142079ffd8df6bee87cebb8fa6f8c66a836f1e4c33678cb0837d',\n",
       "  '0x0235355b47d026438f0c66f09db5ed2b4462044aa632164b394cd2553fb2693e',\n",
       "  '0x72c32e24f7438f3f94c9dd8c2b5a3a3121ae415a011ea26a64b8745b92b44fed',\n",
       "  '0xe77cbd77faeadef0c709fc23992a37510ed06c0e9f989dc4b51400015ee434ed',\n",
       "  '0xc18d08faee7bbb924b77ea5d09cac3ff3bf008f51fffd30d14e54feeb3ea61e4',\n",
       "  '0xc1ef8077e3df62f078182a48b18fdb82d9aa69b523d9b6f300c2b8e1dac5ebd6',\n",
       "  '0x339832e1a0bbb712f1fa25cb7fb90c7c9faca2d9520c35620bd2f1106b66efc7',\n",
       "  '0x553a3a38ebf871c3ab98edacd50fa9e76a8c6c39ccd352ee4e2d1b2e3a0b969f',\n",
       "  '0xc158ea664d7cfbcaf9af680b3ad7712da42ca4dc2fc3fd8d2adaf65d45c2ef6c',\n",
       "  '0xa950cb26eec201768a73546683f8a9d0886ab670ef5fa7e9b81d50373b799235',\n",
       "  '0x22d749c5302aae6698c54867c08399f838784522fadd53ffd024fe2f16f1052e',\n",
       "  '0x7036e375dbd2c2a54e9a4041e8d8ca0623fffa7adf489d79a08914b49b3c6f1f',\n",
       "  '0xf037c976a34578f42c88025cd51fcc358c510b4cec459af5462200305808a6d0',\n",
       "  '0xeef5e4a5a8a557f927120bddbb55cb4ad87a082c63c3cf8581ad8a4990614c65',\n",
       "  '0xd6fa4d5e7042c09e6e4fb503fbd69945a71195318bc6c8116d790eea862bdd71',\n",
       "  '0x732fd0215b35bc6ba2ba370fa67133c3020c46de78c8a7b7981946cea069d874',\n",
       "  '0xfc5e7ea32890c90f9f884772e7cbbbaa4976688c80133835dde5b158dae6f4a8',\n",
       "  '0x5fde395a33a15f2e0b012988d047af21d8d434c3f74ccca69c3579a26cc62462',\n",
       "  '0x409f265e490b0b962332b08a9bea522cbbaf3f84c812b22e5e851a330cc7d3b0',\n",
       "  '0x1eef2fed2a234716f9e7546049c08f136904ad2622ae3b69ab98fcfaa52018cd',\n",
       "  '0x216b67f3ad43ca4a2e64fc7a7d29643a19a4c460ad771f21a1483a23205ec45d',\n",
       "  '0x61fa6bfa7d2b7d522aba1b2d9899f21f05dfca3e0498b09ff8262c921262450e',\n",
       "  '0x9faff8b4d5334090550fb879260d353d81c1178c6531e8ca225a9e0a032da24a',\n",
       "  '0xf0e4e1f83a2a14f076e31caf5cfa9ac26254d8cfb4fe4a5dc5bcd25ee9d428a1',\n",
       "  '0xe66b3c6d173fa768ed64fa5e87b5374ff3fcf0205e5bae65ee958160c2da9fa7',\n",
       "  '0x05d528b4a8a659ccea73c3946b6c049b09cbc714aefd0d26bf17739157f2fcd5',\n",
       "  '0xccd037ccb864784af8932e68b1335d03ad108acac16591fe2118b3056b03b942',\n",
       "  '0x1f3647004a42dca3eef8801ee35705c8f63abfec50fb2144984bcdf0e3b1741a',\n",
       "  '0x8889b2ddfedc4da7b03a155ac4141978503ce7963e2f26bfc8ee94b596f43d30',\n",
       "  '0x511248feb7d0e1b585b413a2adc17fa3b291ced1449031fe45ac41f602bb9b30',\n",
       "  '0xa28db5a9e809a14486e747d017def59c4ef458c7b28c30e64826ec429da0d358',\n",
       "  '0xe8153d04b57a972ede68a6bacbf2b5d7300764008748ba6fcee5a948da7a2c61',\n",
       "  '0xf16d6eb80ec921c5ef06e1acd5a0a0f005eff6b980dd150ea079e47a61af371d',\n",
       "  '0xff22311453c633e90a34514dd8c623d8fad5a8424438b86007c7db8665b4f644',\n",
       "  '0x8116c74edd4607b4229babd542b13cdb99e9f7ac31d19e1be40ff43b8d740770',\n",
       "  '0x44503d86e543e5574afd67df4e2ee11033a1e26573bf1abf3477a954e27e0bf6',\n",
       "  '0x119c2cdcfa03938e6cd7ce3f8d99dde5062d96ec9cc25c891291784bd6d34bd1',\n",
       "  '0x69a19ec0f276e8e022d6bdaebd3db544a8329a686110cea653e5590add13e34e',\n",
       "  '0xb6fa2bdc210a93a55d70a68fb35fae461533262f23f70d044f21df0cb9e5c488',\n",
       "  '0xadfb7d1527cc88307ef4d42d1b9728f220e746aae0db16d51b056563bb8d8e20',\n",
       "  '0x35d8d742844b967047de36dbd3af43144e395be9c5afc396a281070e3de4abaa',\n",
       "  '0xea1435bcea16eadc48fc64fc28a90b36e054e9a2e79109651e72ef140706bbf2',\n",
       "  '0xff527682816e12a83d188b61a2e4bc5b110100c59d14560495b67e5944aab130',\n",
       "  '0xcb9f25127bd802e39d8297bfbdf4e63d66387513f88beb813069550ab7f504d9',\n",
       "  '0xf043430838905980a823430e5c499bd19cea82f301f6e6b92598dfb5a5d5d919',\n",
       "  '0xbdb461b75bc5dbd1da7dbe3c1d3c540e5f09ebd034de12de06a2235d046bf996',\n",
       "  '0x2f6dcd0baee7e9ed29d4137f66ac997caf90117da391d4b37cc8ba04a2029bb6',\n",
       "  '0x4f4bec2cf3076789402b606b644f6df0f0db8c04d3ff78320177a641d94daf88',\n",
       "  '0x08c87430710930718e5cc23c16c8f6f5cc5417a17f46c17c27102b9129adc1a1',\n",
       "  '0xdc57e2c6414198a302c313bb79f292ec714957182dc6e6a51c739718e3378d06',\n",
       "  '0x3af096859a880d9c33718eda59cb96e1504db7390d0e086c7260d91e87139eab',\n",
       "  '0xf5787c239852670e313cf5eed13cf89c2ba1f5209b37c28595123f5940996338',\n",
       "  '0xbbc970691625eda88a1cc18841f1fc8907f86549c93c230353d876a9718cb483',\n",
       "  '0xceae7d3ab98899982623304631355510a70a1ca73fe3cb8a88216dea99e89c1d',\n",
       "  '0xdd3b620b49afa578c51266b7e38da38f466150385f54a4878f3a0b794bdb926f',\n",
       "  '0x1e66b94dc423d6b95c9161b4b88d8862e1d05704379386e1b5e6b7f28d62c646',\n",
       "  '0xd29b41f69babd4c5c680234579467ecb3857e39e42c5b53680bc230f6832b425',\n",
       "  '0x2eee61013dfe1380c8794aa110522f112ff83be81ac34e9f7995dac81b6cfced',\n",
       "  '0xfe1d19700fcd7d337e8ac2f985eef5e1ef05b4802d26a1637788a2d9d3464277',\n",
       "  '0xb2c83000b69838c40fc55b81970e05099bd6bb9687ae80a66b8b86f38cfe26e7',\n",
       "  '0x63c06123f3faac825ff6c61a08bc551e60628d68e1479d52620ded995d0f24bc',\n",
       "  '0x1d4e4495d368f7f07f62af7ca6c22215a83d872a123dfcdbb6704d8d9f3e5a92',\n",
       "  '0x181372058f61ffd1e64d8c1a3732234414fdb8443a57b488b940d4eeeafe7223',\n",
       "  '0x0374cabdae148b333f73a939ce24c54a613f46db615599f3a25f850493a06384',\n",
       "  '0x7e6735c14377af079e148458b4e10e8a0e061c3d0e85ed53fb51680b2e373d86',\n",
       "  '0xda595d3ed8d21d0af4859d4f84e17cf6436470770d084dde94d2a7cf53406bf7',\n",
       "  '0x1ed7f450ac9df7e9350567679574fda3b241f7eee1997df32aa00ef4f5f5e9f2',\n",
       "  '0xf25815081739f4fff71b857c2007519e9d5b742819a0209dfcf82fed66555d50',\n",
       "  '0x1d88b8e30c399767d64caebb6eb53fc8ade60a9782e36383973385257c79d8c3',\n",
       "  '0x000b787fdfd48ea77db5bba828b64cf04253210841921b0f478bab4d01b35448',\n",
       "  '0xaa10c416b655d7810e8aa17a232e021c9a472d41d3867ffc1c5b905a4a261a01',\n",
       "  '0x96362d53e53ec15a69315edcd2477a85aefbc375262865cf3e17c683d9a3c781',\n",
       "  '0x0790001ef84d89fd5bd397bbf221a97b6a4ddc744ba2c3b9d0466957857b1ac5',\n",
       "  '0x09b57a092d6cf3939eb4f9f59ef4121fa438b2b1a0544fce1772f42b3944502c',\n",
       "  '0xf1ea27d7b3f760a68b4d57d25bb36886dbde8d76356dcdb77cf6b5e69627844d'],\n",
       " 'transactionsRoot': '0x1ea1746468686159ce730c1cc49a886721244e5d1fa9a06d6d4196b6f013c82c',\n",
       " 'uncles': []}"
      ]
     },
     "execution_count": 52,
     "metadata": {},
     "output_type": "execute_result"
    }
   ],
   "source": [
    "res"
   ]
  },
  {
   "cell_type": "code",
   "execution_count": 56,
   "metadata": {},
   "outputs": [],
   "source": [
    "from eth_compose import get_block_from_slot, get_block_from_block_num, block2slot"
   ]
  },
  {
   "cell_type": "code",
   "execution_count": 57,
   "metadata": {},
   "outputs": [
    {
     "data": {
      "text/plain": [
       "4700013"
      ]
     },
     "execution_count": 57,
     "metadata": {},
     "output_type": "execute_result"
    }
   ],
   "source": [
    "block2slot(15537394)"
   ]
  },
  {
   "cell_type": "code",
   "execution_count": null,
   "metadata": {},
   "outputs": [],
   "source": [
    "block_data = get_block_from_block_num(15537394)\n",
    "slot_data = get_block_from_slot(block2slot(15537394))"
   ]
  }
 ],
 "metadata": {
  "kernelspec": {
   "display_name": ".venv",
   "language": "python",
   "name": "python3"
  },
  "language_info": {
   "codemirror_mode": {
    "name": "ipython",
    "version": 3
   },
   "file_extension": ".py",
   "mimetype": "text/x-python",
   "name": "python",
   "nbconvert_exporter": "python",
   "pygments_lexer": "ipython3",
   "version": "3.9.12"
  },
  "orig_nbformat": 4
 },
 "nbformat": 4,
 "nbformat_minor": 2
}
